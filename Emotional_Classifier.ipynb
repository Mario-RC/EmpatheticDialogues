{
  "nbformat": 4,
  "nbformat_minor": 0,
  "metadata": {
    "colab": {
      "name": "Emotional_Classifier.ipynb",
      "provenance": [],
      "collapsed_sections": [],
      "authorship_tag": "ABX9TyNA1q/CiXliy2sHFV5MDvfr",
      "include_colab_link": true
    },
    "kernelspec": {
      "name": "python3",
      "display_name": "Python 3"
    }
  },
  "cells": [
    {
      "cell_type": "markdown",
      "metadata": {
        "id": "view-in-github",
        "colab_type": "text"
      },
      "source": [
        "<a href=\"https://colab.research.google.com/github/Mario-RC/EmpatheticDialogues/blob/master/Emotional_Classifier.ipynb\" target=\"_parent\"><img src=\"https://colab.research.google.com/assets/colab-badge.svg\" alt=\"Open In Colab\"/></a>"
      ]
    },
    {
      "cell_type": "markdown",
      "metadata": {
        "id": "dfVcV4eF7ubh",
        "colab_type": "text"
      },
      "source": [
        "Download the EmpatheticDialogues dataset:"
      ]
    },
    {
      "cell_type": "code",
      "metadata": {
        "id": "fKenFJkW7e3g",
        "colab_type": "code",
        "colab": {}
      },
      "source": [
        "wget https://dl.fbaipublicfiles.com/parlai/empatheticdialogues/empatheticdialogues.tar.gz"
      ],
      "execution_count": 0,
      "outputs": []
    },
    {
      "cell_type": "markdown",
      "metadata": {
        "id": "kvbZFCti74N9",
        "colab_type": "text"
      },
      "source": [
        "Download the classifier model:"
      ]
    },
    {
      "cell_type": "code",
      "metadata": {
        "id": "DVRXXFFo74bf",
        "colab_type": "code",
        "colab": {}
      },
      "source": [
        "wget https://dl.fbaipublicfiles.com/parlai/empatheticdialogues/models/fasttext_empathetic_dialogues.mdl  # fastText classifier used for EmoPrepend-1"
      ],
      "execution_count": 0,
      "outputs": []
    }
  ]
}